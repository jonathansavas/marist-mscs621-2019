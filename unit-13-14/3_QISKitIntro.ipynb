{
 "cells": [
  {
   "cell_type": "markdown",
   "metadata": {},
   "source": [
    "# Testing QISKit installation and API setup"
   ]
  },
  {
   "cell_type": "code",
   "execution_count": 1,
   "metadata": {},
   "outputs": [],
   "source": [
    "%matplotlib inline\n",
    "from qiskit import Aer\n",
    "from qiskit import IBMQ\n",
    "# Authenticate an account and add for use during this session. Replace string\n",
    "# argument with your private token.\n",
    "# IBMQ.enable_account(\"INSERT_YOUR_API_TOKEN_HERE\") \n",
    "\n",
    "# Load account from locally stored credentials\n",
    "provider = IBMQ.load_account()"
   ]
  },
  {
   "cell_type": "markdown",
   "metadata": {},
   "source": [
    "# Running a Quantum Program Using IBM QX API"
   ]
  },
  {
   "cell_type": "code",
   "execution_count": 2,
   "metadata": {},
   "outputs": [
    {
     "data": {
      "image/png": "[encoded data removed]",
      "text/plain": [
       "<Figure size 504x360 with 1 Axes>"
      ]
     },
     "execution_count": 2,
     "metadata": {},
     "output_type": "execute_result"
    }
   ],
   "source": [
    "import time\n",
    "import qiskit\n",
    "from qiskit.tools.visualization import plot_histogram\n",
    "\n",
    "# Pick an available backend\n",
    "backend = provider.get_backend('ibmq_qasm_simulator')\n",
    "\n",
    "# Setup 5 quantum and 5 classical registers, performing a measurement\n",
    "q = qiskit.QuantumRegister(5)\n",
    "c = qiskit.ClassicalRegister(5)\n",
    "qc = qiskit.QuantumCircuit(q, c)\n",
    "qc.measure(q, c)\n",
    "\n",
    "# Executing the job on IBM QX\n",
    "job_exp = qiskit.execute(qc, backend=backend)\n",
    "plot_histogram(job_exp.result().get_counts(qc))\n"
   ]
  },
  {
   "cell_type": "markdown",
   "metadata": {},
   "source": [
    "# Working with QASM\n",
    "## From a file"
   ]
  },
  {
   "cell_type": "code",
   "execution_count": 3,
   "metadata": {},
   "outputs": [
    {
     "name": "stdout",
     "output_type": "stream",
     "text": [
      "{'00000': 1024}\n"
     ]
    }
   ],
   "source": [
    "import qiskit\n",
    "from qiskit import QuantumCircuit\n",
    "qc = QuantumCircuit.from_qasm_file(\"reversible.qasm\")\n",
    "# Run on local simulator\n",
    "backend= Aer.get_backend('qasm_simulator')\n",
    "sim = qiskit.execute(qc, backend=backend)\n",
    "result = sim.result()\n",
    "# Output result\n",
    "print(result.get_counts(qc))"
   ]
  },
  {
   "cell_type": "markdown",
   "metadata": {},
   "source": [
    "## From a string"
   ]
  },
  {
   "cell_type": "code",
   "execution_count": 4,
   "metadata": {},
   "outputs": [
    {
     "name": "stdout",
     "output_type": "stream",
     "text": [
      "{'11': 1024}\n"
     ]
    }
   ],
   "source": [
    "import qiskit\n",
    "from qiskit import QuantumCircuit\n",
    "qasm_string=\"\"\"\n",
    "OPENQASM 2.0;\n",
    "include \"qelib1.inc\";\n",
    "qreg q[2];\n",
    "creg c[2];\n",
    "x q[0];\n",
    "x q[1];\n",
    "measure q[0] -> c[0];\n",
    "measure q[1] -> c[1];\n",
    "\"\"\"\n",
    "backend= Aer.get_backend('qasm_simulator')\n",
    "qc = QuantumCircuit.from_qasm_str(qasm_string)\n",
    "# Run on local simulator\n",
    "\n",
    "sim = qiskit.execute(qc, backend=backend)\n",
    "result = sim.result()\n",
    "# Output result\n",
    "print(result.get_counts(qc))"
   ]
  },
  {
   "cell_type": "code",
   "execution_count": 5,
   "metadata": {},
   "outputs": [
    {
     "name": "stdout",
     "output_type": "stream",
     "text": [
      "pygame 1.9.6\n",
      "Hello from the pygame community. https://www.pygame.org/contribute.html\n"
     ]
    }
   ],
   "source": [
    "import numpy\n",
    "import pygame, pygame.sndarray\n",
    "import pickle\n",
    "\n",
    "def play_notes(freqs,volumes):\n",
    "    \"\"\"\n",
    "    freqs: a list of frequencies in Hz \n",
    "    volumes a list of volumes: (1 highest 0 lowest)\n",
    "    example usage:\n",
    "    play_notes([440,880],[0.6,0.2])\n",
    "\n",
    "    \"\"\"\n",
    "    pygame.mixer.init()\n",
    "    sample_wave=sum([numpy.resize(volume*16384*numpy.sin(numpy.arange(int(44100/float(hz)))*numpy.pi*2/(44100/float(hz))),(44100,)).astype(numpy.int16) for hz,volume in zip(freqs,volumes)])\n",
    "    stereo = numpy.vstack((sample_wave, sample_wave)).T.copy(order='C')\n",
    "    sound = pygame.sndarray.make_sound(stereo)\n",
    "    sound.play(-1)\n",
    "    pygame.time.delay(1000)\n",
    "    sound.stop()\n",
    "    pygame.time.delay(1000)\n",
    "\n",
    "def quantum_play_notes(qc,shots):\n",
    "    \"\"\"\n",
    "    qc: the quantum circuit of 7 qubits\n",
    "    shots: the number of times to prepare and perform the circuit computation\n",
    "\n",
    "    The quantum state is prepared <shots> number of times. \n",
    "    \n",
    "    The result of the measurement each time is played as a single note.\n",
    "    \n",
    "    \"\"\"\n",
    "    midi_conversion_tables=pickle.load(open('midi_conversion_tables.p','rb'))        \n",
    "    midi_to_note_bin=midi_conversion_tables['midi_to_note_bin']\n",
    "    midi_to_frequency_bin=midi_conversion_tables['midi_to_frequency_bin']\n",
    "\n",
    "    backend= Aer.get_backend('qasm_simulator')\n",
    "    for i in range(shots):\n",
    "        # Note shots=1 may result in a deprecation warning, which will go away in a future code version.\n",
    "        sim = qiskit.execute(qc,backend=backend,shots=1)\n",
    "        result = sim.result()\n",
    "        final=result.get_counts(qc)\n",
    "        [print(midi_to_note_bin[k]) for k in final.keys()]\n",
    "        play_notes([float(midi_to_frequency_bin[k]) for k in final.keys()],[1.0])\n",
    "\n",
    "\n",
    "def quantum_play_chords(qc,shots):\n",
    "    \"\"\"\n",
    "    qc: the quantum circuit of 7 qubits\n",
    "    shots: the number of times to prepare and perform the circuit computation\n",
    "\n",
    "    The quantum state is prepared <shots> number of times.\n",
    "    \n",
    "    This method helps to hear the outcome of the <shots> measurements together by producing \n",
    "    a chord where each note in the chord is a measurement result and the maximum volume of the note\n",
    "    is reduced the fraction of the times the note appears in <shots> measurement.\n",
    "    \"\"\"\n",
    "    midi_conversion_tables=pickle.load(open('midi_conversion_tables.p','rb'))        \n",
    "    midi_to_note_bin=midi_conversion_tables['midi_to_note_bin']\n",
    "    midi_to_frequency_bin=midi_conversion_tables['midi_to_frequency_bin']\n",
    "\n",
    "    \n",
    "    backend= Aer.get_backend('qasm_simulator')\n",
    "    sim = qiskit.execute(qc, backend=backend,shots=shots)\n",
    "    result = sim.result()\n",
    "    final=result.get_counts(qc)\n",
    "\n",
    "    freqs=[]\n",
    "    volumes=[]\n",
    "    for k,v in final.items():\n",
    "        try:\n",
    "            freqs+=[float(midi_to_frequency_bin[k])]\n",
    "            volumes+=[int(v)/shots]\n",
    "            print('%f percent' % (int(v)/shots*100),midi_to_note_bin[k])\n",
    "        except:\n",
    "            print('%f percent' % (int(v)/shots*100),k)\n",
    "    play_notes(freqs,volumes)\n",
    "\n",
    "\n"
   ]
  },
  {
   "cell_type": "code",
   "execution_count": 6,
   "metadata": {},
   "outputs": [],
   "source": [
    "import qiskit\n",
    "from qiskit import ClassicalRegister, QuantumRegister\n",
    "from qiskit import QuantumCircuit, execute\n",
    "\n",
    "# set up registers and program\n",
    "qr = QuantumRegister(7)\n",
    "cr = ClassicalRegister(7)\n",
    "qc = QuantumCircuit(qr, cr)\n",
    "\n",
    "# F4 and A4 together:\n",
    "qc.x(qr[0]) # 1 at qubit 0\n",
    "qc.x(qr[6]) # 1 at qubit 6\n",
    "qc.h(qr[2]) # create superposition on qubit 2\n",
    "\n",
    "for j in range(7):\n",
    "    qc.measure(qr[j], cr[j])\n"
   ]
  },
  {
   "cell_type": "code",
   "execution_count": 7,
   "metadata": {},
   "outputs": [
    {
     "name": "stdout",
     "output_type": "stream",
     "text": [
      "A4\n",
      "A4\n",
      "A4\n",
      "A4\n",
      "75.000000 percent F4\n",
      "25.000000 percent A4\n"
     ]
    }
   ],
   "source": [
    "quantum_play_notes(qc,4)\n",
    "quantum_play_chords(qc,4)"
   ]
  },
  {
   "cell_type": "code",
   "execution_count": 8,
   "metadata": {},
   "outputs": [],
   "source": [
    "import qiskit\n",
    "from qiskit import ClassicalRegister, QuantumRegister\n",
    "from qiskit import QuantumCircuit, execute\n",
    "\n",
    "# set up registers and program\n",
    "qr = QuantumRegister(7)\n",
    "cr = ClassicalRegister(7)\n",
    "qc = QuantumCircuit(qr, cr)\n",
    "\n",
    "qc.x(qr[4]) # 1 at qubit 4\n",
    "qc.x(qr[5]) # 1 at qubit 5\n",
    "qc.h(qr[2]) # create a superposition on qubit 2\n",
    "qc.h(qr[3]) # create a superposition on qubit 3\n",
    "\n",
    "for j in range(7):\n",
    "    qc.measure(qr[j], cr[j])\n"
   ]
  },
  {
   "cell_type": "code",
   "execution_count": 9,
   "metadata": {},
   "outputs": [
    {
     "name": "stdout",
     "output_type": "stream",
     "text": [
      "C3\n",
      "C4\n",
      "C3\n",
      "C4\n",
      "24.444444 percent E3\n",
      "31.111111 percent C3\n",
      "20.000000 percent G#3\n",
      "24.444444 percent C4\n"
     ]
    }
   ],
   "source": [
    "quantum_play_notes(qc,4)\n",
    "quantum_play_chords(qc,45)"
   ]
  },
  {
   "cell_type": "code",
   "execution_count": null,
   "metadata": {},
   "outputs": [],
   "source": []
  }
 ],
 "metadata": {
  "kernelspec": {
   "display_name": "Python 3",
   "language": "python",
   "name": "python3"
  },
  "language_info": {
   "codemirror_mode": {
    "name": "ipython",
    "version": 3
   },
   "file_extension": ".py",
   "mimetype": "text/x-python",
   "name": "python",
   "nbconvert_exporter": "python",
   "pygments_lexer": "ipython3",
   "version": "3.7.3"
  }
 },
 "nbformat": 4,
 "nbformat_minor": 4
}
